IP[1]:
   In[1]:
import numpy as np
print(np.arange(100))

    In[2]:
import math
a = math.sin(30)
print(a)

    In[3]
%matplotlib inline
import matplotlib.pyplot as plt
x = np.sin(np.arange(50))
plt.plot(x)
